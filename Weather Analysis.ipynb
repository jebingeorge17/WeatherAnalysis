{
 "cells": [
  {
   "cell_type": "code",
   "execution_count": 1,
   "id": "d945ffeb",
   "metadata": {},
   "outputs": [],
   "source": [
    "import numpy as np\n",
    "import pandas as pd\n",
    "import seaborn as sns\n",
    "import matplotlib.pyplot as plt\n",
    "import warnings\n",
    "warnings.filterwarnings('ignore')"
   ]
  },
  {
   "cell_type": "code",
   "execution_count": 2,
   "id": "c3cde05b",
   "metadata": {},
   "outputs": [],
   "source": [
    "summer = pd.read_csv('indian_summer.csv')"
   ]
  },
  {
   "cell_type": "code",
   "execution_count": 3,
   "id": "7f91871a",
   "metadata": {},
   "outputs": [
    {
     "data": {
      "text/html": [
       "<div>\n",
       "<style scoped>\n",
       "    .dataframe tbody tr th:only-of-type {\n",
       "        vertical-align: middle;\n",
       "    }\n",
       "\n",
       "    .dataframe tbody tr th {\n",
       "        vertical-align: top;\n",
       "    }\n",
       "\n",
       "    .dataframe thead th {\n",
       "        text-align: right;\n",
       "    }\n",
       "</style>\n",
       "<table border=\"1\" class=\"dataframe\">\n",
       "  <thead>\n",
       "    <tr style=\"text-align: right;\">\n",
       "      <th></th>\n",
       "      <th>City</th>\n",
       "      <th>Date</th>\n",
       "      <th>tempmax</th>\n",
       "      <th>tempmin</th>\n",
       "      <th>temp</th>\n",
       "      <th>feelslikemax</th>\n",
       "      <th>feelslikemin</th>\n",
       "      <th>feelslike</th>\n",
       "      <th>dew</th>\n",
       "      <th>humidity</th>\n",
       "      <th>windspeed</th>\n",
       "      <th>winddir</th>\n",
       "      <th>sealevelpressure</th>\n",
       "      <th>cloudcover</th>\n",
       "      <th>visibility</th>\n",
       "      <th>sunrise</th>\n",
       "      <th>sunset</th>\n",
       "      <th>moonphase</th>\n",
       "      <th>conditions</th>\n",
       "      <th>description</th>\n",
       "    </tr>\n",
       "  </thead>\n",
       "  <tbody>\n",
       "    <tr>\n",
       "      <th>0</th>\n",
       "      <td>New Delhi</td>\n",
       "      <td>01-04-2021</td>\n",
       "      <td>34.0</td>\n",
       "      <td>19.0</td>\n",
       "      <td>27.1</td>\n",
       "      <td>31.6</td>\n",
       "      <td>19.0</td>\n",
       "      <td>26.1</td>\n",
       "      <td>3.1</td>\n",
       "      <td>22.60</td>\n",
       "      <td>22.8</td>\n",
       "      <td>272.9</td>\n",
       "      <td>1002.8</td>\n",
       "      <td>0.0</td>\n",
       "      <td>3.1</td>\n",
       "      <td>01-04-2021 6:11</td>\n",
       "      <td>01-04-2021 18:39</td>\n",
       "      <td>0.60</td>\n",
       "      <td>Clear</td>\n",
       "      <td>Clear conditions throughout the day.</td>\n",
       "    </tr>\n",
       "    <tr>\n",
       "      <th>1</th>\n",
       "      <td>New Delhi</td>\n",
       "      <td>02-04-2021</td>\n",
       "      <td>33.9</td>\n",
       "      <td>16.0</td>\n",
       "      <td>25.8</td>\n",
       "      <td>31.8</td>\n",
       "      <td>16.0</td>\n",
       "      <td>24.9</td>\n",
       "      <td>4.5</td>\n",
       "      <td>27.62</td>\n",
       "      <td>12.4</td>\n",
       "      <td>275.0</td>\n",
       "      <td>1006.2</td>\n",
       "      <td>0.0</td>\n",
       "      <td>3.5</td>\n",
       "      <td>02-04-2021 6:10</td>\n",
       "      <td>02-04-2021 18:39</td>\n",
       "      <td>0.65</td>\n",
       "      <td>Clear</td>\n",
       "      <td>Clear conditions throughout the day.</td>\n",
       "    </tr>\n",
       "    <tr>\n",
       "      <th>2</th>\n",
       "      <td>New Delhi</td>\n",
       "      <td>03-04-2021</td>\n",
       "      <td>34.8</td>\n",
       "      <td>14.6</td>\n",
       "      <td>26.0</td>\n",
       "      <td>32.2</td>\n",
       "      <td>14.6</td>\n",
       "      <td>25.1</td>\n",
       "      <td>1.3</td>\n",
       "      <td>23.18</td>\n",
       "      <td>16.5</td>\n",
       "      <td>127.5</td>\n",
       "      <td>1008.8</td>\n",
       "      <td>1.4</td>\n",
       "      <td>3.5</td>\n",
       "      <td>03-04-2021 6:08</td>\n",
       "      <td>03-04-2021 18:40</td>\n",
       "      <td>0.70</td>\n",
       "      <td>Clear</td>\n",
       "      <td>Clear conditions throughout the day.</td>\n",
       "    </tr>\n",
       "    <tr>\n",
       "      <th>3</th>\n",
       "      <td>New Delhi</td>\n",
       "      <td>04-04-2021</td>\n",
       "      <td>36.8</td>\n",
       "      <td>16.9</td>\n",
       "      <td>27.1</td>\n",
       "      <td>34.2</td>\n",
       "      <td>16.9</td>\n",
       "      <td>26.0</td>\n",
       "      <td>4.8</td>\n",
       "      <td>28.00</td>\n",
       "      <td>18.3</td>\n",
       "      <td>157.6</td>\n",
       "      <td>1009.5</td>\n",
       "      <td>2.6</td>\n",
       "      <td>3.2</td>\n",
       "      <td>04-04-2021 6:07</td>\n",
       "      <td>04-04-2021 18:40</td>\n",
       "      <td>0.76</td>\n",
       "      <td>Clear</td>\n",
       "      <td>Clear conditions throughout the day.</td>\n",
       "    </tr>\n",
       "    <tr>\n",
       "      <th>4</th>\n",
       "      <td>New Delhi</td>\n",
       "      <td>05-04-2021</td>\n",
       "      <td>38.8</td>\n",
       "      <td>21.0</td>\n",
       "      <td>29.9</td>\n",
       "      <td>37.1</td>\n",
       "      <td>21.0</td>\n",
       "      <td>28.9</td>\n",
       "      <td>8.1</td>\n",
       "      <td>28.85</td>\n",
       "      <td>13.5</td>\n",
       "      <td>100.4</td>\n",
       "      <td>1007.8</td>\n",
       "      <td>38.4</td>\n",
       "      <td>3.1</td>\n",
       "      <td>05-04-2021 6:06</td>\n",
       "      <td>05-04-2021 18:41</td>\n",
       "      <td>0.81</td>\n",
       "      <td>Partially cloudy</td>\n",
       "      <td>Partly cloudy throughout the day.</td>\n",
       "    </tr>\n",
       "  </tbody>\n",
       "</table>\n",
       "</div>"
      ],
      "text/plain": [
       "        City        Date  tempmax  tempmin  temp  feelslikemax  feelslikemin  \\\n",
       "0  New Delhi  01-04-2021     34.0     19.0  27.1          31.6          19.0   \n",
       "1  New Delhi  02-04-2021     33.9     16.0  25.8          31.8          16.0   \n",
       "2  New Delhi  03-04-2021     34.8     14.6  26.0          32.2          14.6   \n",
       "3  New Delhi  04-04-2021     36.8     16.9  27.1          34.2          16.9   \n",
       "4  New Delhi  05-04-2021     38.8     21.0  29.9          37.1          21.0   \n",
       "\n",
       "   feelslike  dew  humidity  windspeed  winddir  sealevelpressure  cloudcover  \\\n",
       "0       26.1  3.1     22.60       22.8    272.9            1002.8         0.0   \n",
       "1       24.9  4.5     27.62       12.4    275.0            1006.2         0.0   \n",
       "2       25.1  1.3     23.18       16.5    127.5            1008.8         1.4   \n",
       "3       26.0  4.8     28.00       18.3    157.6            1009.5         2.6   \n",
       "4       28.9  8.1     28.85       13.5    100.4            1007.8        38.4   \n",
       "\n",
       "   visibility          sunrise            sunset  moonphase        conditions  \\\n",
       "0         3.1  01-04-2021 6:11  01-04-2021 18:39       0.60             Clear   \n",
       "1         3.5  02-04-2021 6:10  02-04-2021 18:39       0.65             Clear   \n",
       "2         3.5  03-04-2021 6:08  03-04-2021 18:40       0.70             Clear   \n",
       "3         3.2  04-04-2021 6:07  04-04-2021 18:40       0.76             Clear   \n",
       "4         3.1  05-04-2021 6:06  05-04-2021 18:41       0.81  Partially cloudy   \n",
       "\n",
       "                            description  \n",
       "0  Clear conditions throughout the day.  \n",
       "1  Clear conditions throughout the day.  \n",
       "2  Clear conditions throughout the day.  \n",
       "3  Clear conditions throughout the day.  \n",
       "4     Partly cloudy throughout the day.  "
      ]
     },
     "execution_count": 3,
     "metadata": {},
     "output_type": "execute_result"
    }
   ],
   "source": [
    "summer.head()"
   ]
  },
  {
   "cell_type": "code",
   "execution_count": 4,
   "id": "2db2bd05",
   "metadata": {},
   "outputs": [
    {
     "data": {
      "text/html": [
       "<div>\n",
       "<style scoped>\n",
       "    .dataframe tbody tr th:only-of-type {\n",
       "        vertical-align: middle;\n",
       "    }\n",
       "\n",
       "    .dataframe tbody tr th {\n",
       "        vertical-align: top;\n",
       "    }\n",
       "\n",
       "    .dataframe thead th {\n",
       "        text-align: right;\n",
       "    }\n",
       "</style>\n",
       "<table border=\"1\" class=\"dataframe\">\n",
       "  <thead>\n",
       "    <tr style=\"text-align: right;\">\n",
       "      <th></th>\n",
       "      <th>City</th>\n",
       "      <th>Date</th>\n",
       "      <th>tempmax</th>\n",
       "      <th>tempmin</th>\n",
       "      <th>temp</th>\n",
       "      <th>feelslikemax</th>\n",
       "      <th>feelslikemin</th>\n",
       "      <th>feelslike</th>\n",
       "      <th>dew</th>\n",
       "      <th>humidity</th>\n",
       "      <th>windspeed</th>\n",
       "      <th>winddir</th>\n",
       "      <th>sealevelpressure</th>\n",
       "      <th>cloudcover</th>\n",
       "      <th>visibility</th>\n",
       "      <th>sunrise</th>\n",
       "      <th>sunset</th>\n",
       "      <th>moonphase</th>\n",
       "      <th>conditions</th>\n",
       "      <th>description</th>\n",
       "    </tr>\n",
       "  </thead>\n",
       "  <tbody>\n",
       "    <tr>\n",
       "      <th>13645</th>\n",
       "      <td>Hyderabad</td>\n",
       "      <td>26-06-2012</td>\n",
       "      <td>32.1</td>\n",
       "      <td>22.1</td>\n",
       "      <td>25.8</td>\n",
       "      <td>35.9</td>\n",
       "      <td>22.1</td>\n",
       "      <td>26.7</td>\n",
       "      <td>19.9</td>\n",
       "      <td>71.60</td>\n",
       "      <td>31.3</td>\n",
       "      <td>248.8</td>\n",
       "      <td>NaN</td>\n",
       "      <td>85.3</td>\n",
       "      <td>4.6</td>\n",
       "      <td>26-06-2012 05:44</td>\n",
       "      <td>26-06-2012 18:53</td>\n",
       "      <td>0.21</td>\n",
       "      <td>Rain, Partially cloudy</td>\n",
       "      <td>Partly cloudy throughout the day with afternoo...</td>\n",
       "    </tr>\n",
       "    <tr>\n",
       "      <th>13646</th>\n",
       "      <td>Hyderabad</td>\n",
       "      <td>27-06-2012</td>\n",
       "      <td>31.8</td>\n",
       "      <td>21.1</td>\n",
       "      <td>25.5</td>\n",
       "      <td>33.3</td>\n",
       "      <td>21.1</td>\n",
       "      <td>26.1</td>\n",
       "      <td>19.0</td>\n",
       "      <td>68.40</td>\n",
       "      <td>29.5</td>\n",
       "      <td>262.4</td>\n",
       "      <td>NaN</td>\n",
       "      <td>67.9</td>\n",
       "      <td>5.5</td>\n",
       "      <td>27-06-2012 05:44</td>\n",
       "      <td>27-06-2012 18:54</td>\n",
       "      <td>0.27</td>\n",
       "      <td>Rain, Partially cloudy</td>\n",
       "      <td>Partly cloudy throughout the day with rain.</td>\n",
       "    </tr>\n",
       "    <tr>\n",
       "      <th>13647</th>\n",
       "      <td>Hyderabad</td>\n",
       "      <td>28-06-2012</td>\n",
       "      <td>31.8</td>\n",
       "      <td>23.1</td>\n",
       "      <td>26.8</td>\n",
       "      <td>33.3</td>\n",
       "      <td>23.1</td>\n",
       "      <td>27.6</td>\n",
       "      <td>19.1</td>\n",
       "      <td>63.67</td>\n",
       "      <td>31.3</td>\n",
       "      <td>264.5</td>\n",
       "      <td>NaN</td>\n",
       "      <td>69.5</td>\n",
       "      <td>5.6</td>\n",
       "      <td>28-06-2012 05:44</td>\n",
       "      <td>28-06-2012 18:54</td>\n",
       "      <td>0.33</td>\n",
       "      <td>Partially cloudy</td>\n",
       "      <td>Partly cloudy throughout the day.</td>\n",
       "    </tr>\n",
       "    <tr>\n",
       "      <th>13648</th>\n",
       "      <td>Hyderabad</td>\n",
       "      <td>29-06-2012</td>\n",
       "      <td>32.8</td>\n",
       "      <td>23.1</td>\n",
       "      <td>26.7</td>\n",
       "      <td>35.1</td>\n",
       "      <td>23.1</td>\n",
       "      <td>27.5</td>\n",
       "      <td>19.5</td>\n",
       "      <td>65.54</td>\n",
       "      <td>27.7</td>\n",
       "      <td>265.1</td>\n",
       "      <td>NaN</td>\n",
       "      <td>85.0</td>\n",
       "      <td>5.6</td>\n",
       "      <td>29-06-2012 05:44</td>\n",
       "      <td>29-06-2012 18:54</td>\n",
       "      <td>0.38</td>\n",
       "      <td>Rain, Partially cloudy</td>\n",
       "      <td>Partly cloudy throughout the day with afternoo...</td>\n",
       "    </tr>\n",
       "    <tr>\n",
       "      <th>13649</th>\n",
       "      <td>Hyderabad</td>\n",
       "      <td>30-06-2012</td>\n",
       "      <td>32.9</td>\n",
       "      <td>23.1</td>\n",
       "      <td>27.7</td>\n",
       "      <td>34.5</td>\n",
       "      <td>23.1</td>\n",
       "      <td>28.6</td>\n",
       "      <td>18.8</td>\n",
       "      <td>59.46</td>\n",
       "      <td>27.7</td>\n",
       "      <td>264.2</td>\n",
       "      <td>NaN</td>\n",
       "      <td>64.9</td>\n",
       "      <td>5.6</td>\n",
       "      <td>30-06-2012 05:45</td>\n",
       "      <td>30-06-2012 18:54</td>\n",
       "      <td>0.43</td>\n",
       "      <td>Partially cloudy</td>\n",
       "      <td>Partly cloudy throughout the day.</td>\n",
       "    </tr>\n",
       "  </tbody>\n",
       "</table>\n",
       "</div>"
      ],
      "text/plain": [
       "            City        Date  tempmax  tempmin  temp  feelslikemax  \\\n",
       "13645  Hyderabad  26-06-2012     32.1     22.1  25.8          35.9   \n",
       "13646  Hyderabad  27-06-2012     31.8     21.1  25.5          33.3   \n",
       "13647  Hyderabad  28-06-2012     31.8     23.1  26.8          33.3   \n",
       "13648  Hyderabad  29-06-2012     32.8     23.1  26.7          35.1   \n",
       "13649  Hyderabad  30-06-2012     32.9     23.1  27.7          34.5   \n",
       "\n",
       "       feelslikemin  feelslike   dew  humidity  windspeed  winddir  \\\n",
       "13645          22.1       26.7  19.9     71.60       31.3    248.8   \n",
       "13646          21.1       26.1  19.0     68.40       29.5    262.4   \n",
       "13647          23.1       27.6  19.1     63.67       31.3    264.5   \n",
       "13648          23.1       27.5  19.5     65.54       27.7    265.1   \n",
       "13649          23.1       28.6  18.8     59.46       27.7    264.2   \n",
       "\n",
       "       sealevelpressure  cloudcover  visibility           sunrise  \\\n",
       "13645               NaN        85.3         4.6  26-06-2012 05:44   \n",
       "13646               NaN        67.9         5.5  27-06-2012 05:44   \n",
       "13647               NaN        69.5         5.6  28-06-2012 05:44   \n",
       "13648               NaN        85.0         5.6  29-06-2012 05:44   \n",
       "13649               NaN        64.9         5.6  30-06-2012 05:45   \n",
       "\n",
       "                 sunset  moonphase              conditions  \\\n",
       "13645  26-06-2012 18:53       0.21  Rain, Partially cloudy   \n",
       "13646  27-06-2012 18:54       0.27  Rain, Partially cloudy   \n",
       "13647  28-06-2012 18:54       0.33        Partially cloudy   \n",
       "13648  29-06-2012 18:54       0.38  Rain, Partially cloudy   \n",
       "13649  30-06-2012 18:54       0.43        Partially cloudy   \n",
       "\n",
       "                                             description  \n",
       "13645  Partly cloudy throughout the day with afternoo...  \n",
       "13646        Partly cloudy throughout the day with rain.  \n",
       "13647                  Partly cloudy throughout the day.  \n",
       "13648  Partly cloudy throughout the day with afternoo...  \n",
       "13649                  Partly cloudy throughout the day.  "
      ]
     },
     "execution_count": 4,
     "metadata": {},
     "output_type": "execute_result"
    }
   ],
   "source": [
    "summer.tail()"
   ]
  },
  {
   "cell_type": "code",
   "execution_count": 5,
   "id": "740a4044",
   "metadata": {},
   "outputs": [
    {
     "data": {
      "text/plain": [
       "(13650, 20)"
      ]
     },
     "execution_count": 5,
     "metadata": {},
     "output_type": "execute_result"
    }
   ],
   "source": [
    "summer.shape"
   ]
  },
  {
   "cell_type": "code",
   "execution_count": 6,
   "id": "12c1526a",
   "metadata": {
    "scrolled": true
   },
   "outputs": [
    {
     "data": {
      "text/plain": [
       "City                   0\n",
       "Date                   0\n",
       "tempmax               35\n",
       "tempmin               35\n",
       "temp                  45\n",
       "feelslikemax          36\n",
       "feelslikemin          36\n",
       "feelslike             46\n",
       "dew                   45\n",
       "humidity              45\n",
       "windspeed             45\n",
       "winddir               50\n",
       "sealevelpressure    3019\n",
       "cloudcover            45\n",
       "visibility            45\n",
       "sunrise                0\n",
       "sunset                 0\n",
       "moonphase              0\n",
       "conditions            45\n",
       "description           45\n",
       "dtype: int64"
      ]
     },
     "execution_count": 6,
     "metadata": {},
     "output_type": "execute_result"
    }
   ],
   "source": [
    "summer.isnull().sum()"
   ]
  },
  {
   "cell_type": "code",
   "execution_count": 7,
   "id": "1a8f7957",
   "metadata": {},
   "outputs": [],
   "source": [
    "summer.drop([\"sealevelpressure\"],axis=1,inplace = True)"
   ]
  },
  {
   "cell_type": "code",
   "execution_count": 8,
   "id": "858c85e7",
   "metadata": {},
   "outputs": [],
   "source": [
    "summer.dropna(inplace = True)"
   ]
  },
  {
   "cell_type": "code",
   "execution_count": 9,
   "id": "e6083654",
   "metadata": {},
   "outputs": [
    {
     "data": {
      "text/plain": [
       "Index(['City', 'Date', 'tempmax', 'tempmin', 'temp', 'feelslikemax',\n",
       "       'feelslikemin', 'feelslike', 'dew', 'humidity', 'windspeed', 'winddir',\n",
       "       'cloudcover', 'visibility', 'sunrise', 'sunset', 'moonphase',\n",
       "       'conditions', 'description'],\n",
       "      dtype='object')"
      ]
     },
     "execution_count": 9,
     "metadata": {},
     "output_type": "execute_result"
    }
   ],
   "source": [
    "summer.columns"
   ]
  },
  {
   "cell_type": "code",
   "execution_count": 10,
   "id": "2227c762",
   "metadata": {},
   "outputs": [
    {
     "data": {
      "text/plain": [
       "(13599, 19)"
      ]
     },
     "execution_count": 10,
     "metadata": {},
     "output_type": "execute_result"
    }
   ],
   "source": [
    "summer.shape"
   ]
  },
  {
   "cell_type": "code",
   "execution_count": 11,
   "id": "458f1d9f",
   "metadata": {},
   "outputs": [
    {
     "data": {
      "text/plain": [
       "array(['Clear', 'Partially cloudy', 'Rain, Partially cloudy',\n",
       "       'Rain, Overcast', 'Overcast', 'Rain'], dtype=object)"
      ]
     },
     "execution_count": 11,
     "metadata": {},
     "output_type": "execute_result"
    }
   ],
   "source": [
    "summer[\"conditions\"].unique()"
   ]
  },
  {
   "cell_type": "code",
   "execution_count": 12,
   "id": "8b9c2559",
   "metadata": {},
   "outputs": [
    {
     "data": {
      "text/plain": [
       "Partially cloudy          7852\n",
       "Clear                     3880\n",
       "Rain, Partially cloudy    1609\n",
       "Rain, Overcast             136\n",
       "Overcast                   113\n",
       "Rain                         9\n",
       "Name: conditions, dtype: int64"
      ]
     },
     "execution_count": 12,
     "metadata": {},
     "output_type": "execute_result"
    }
   ],
   "source": [
    "summer[\"conditions\"].value_counts()"
   ]
  },
  {
   "cell_type": "code",
   "execution_count": 13,
   "id": "89d62c59",
   "metadata": {},
   "outputs": [
    {
     "data": {
      "text/plain": [
       "<AxesSubplot:xlabel='conditions', ylabel='count'>"
      ]
     },
     "execution_count": 13,
     "metadata": {},
     "output_type": "execute_result"
    },
    {
     "data": {
      "image/png": "[encoded data removed]",
      "text/plain": [
       "<Figure size 1080x432 with 1 Axes>"
      ]
     },
     "metadata": {
      "needs_background": "light"
     },
     "output_type": "display_data"
    }
   ],
   "source": [
    "plt.figure(figsize=(15,6))\n",
    "sns.countplot('conditions',data= summer,palette='hls')"
   ]
  },
  {
   "cell_type": "code",
   "execution_count": 14,
   "id": "92ea4416",
   "metadata": {},
   "outputs": [
    {
     "data": {
      "text/plain": [
       "<AxesSubplot:title={'center':'Weather'}, xlabel='conditions', ylabel='temp'>"
      ]
     },
     "execution_count": 14,
     "metadata": {},
     "output_type": "execute_result"
    },
    {
     "data": {
      "image/png": "[encoded data removed]",
      "text/plain": [
       "<Figure size 864x432 with 1 Axes>"
      ]
     },
     "metadata": {
      "needs_background": "light"
     },
     "output_type": "display_data"
    }
   ],
   "source": [
    "#Weather vs Temp\n",
    "plt.figure(figsize=(12,6))\n",
    "plt.xticks(rotation=90)\n",
    "plt.title('Weather')\n",
    "sns.barplot(x=summer['conditions'], y =summer['temp'] )"
   ]
  },
  {
   "cell_type": "code",
   "execution_count": 40,
   "id": "0efe0cb8",
   "metadata": {},
   "outputs": [
    {
     "data": {
      "text/plain": [
       "<AxesSubplot:title={'center':'Weather'}, xlabel='conditions', ylabel='humidity'>"
      ]
     },
     "execution_count": 40,
     "metadata": {},
     "output_type": "execute_result"
    },
    {
     "data": {
      "image/png": "[encoded data removed]",
      "text/plain": [
       "<Figure size 864x432 with 1 Axes>"
      ]
     },
     "metadata": {
      "needs_background": "light"
     },
     "output_type": "display_data"
    }
   ],
   "source": [
    "#Weather vs humidity\n",
    "plt.figure(figsize=(12,6))\n",
    "plt.xticks(rotation=90)\n",
    "plt.title('Weather')\n",
    "sns.barplot(x=summer['conditions'], y =summer['humidity'] )"
   ]
  },
  {
   "cell_type": "code",
   "execution_count": 21,
   "id": "f6a9ab30",
   "metadata": {},
   "outputs": [
    {
     "name": "stdout",
     "output_type": "stream",
     "text": [
      "Collecting pywedge\n",
      "  Downloading pywedge-0.5.1.8-py3-none-any.whl (25 kB)\n",
      "Collecting xgboost\n",
      "  Downloading xgboost-1.6.0-py3-none-win_amd64.whl (126.1 MB)\n",
      "Requirement already satisfied: numpy in c:\\conda\\lib\\site-packages (from pywedge) (1.21.5)\n",
      "Collecting imbalanced-learn\n",
      "  Downloading imbalanced_learn-0.9.0-py3-none-any.whl (199 kB)\n",
      "Requirement already satisfied: tqdm in c:\\conda\\lib\\site-packages (from pywedge) (4.61.2)\n",
      "Requirement already satisfied: scikit-learn in c:\\conda\\lib\\site-packages (from pywedge) (1.0.2)\n",
      "Requirement already satisfied: ipywidgets in c:\\conda\\lib\\site-packages (from pywedge) (7.6.5)\n",
      "Collecting plotly\n",
      "  Downloading plotly-5.7.0-py2.py3-none-any.whl (28.8 MB)\n",
      "Collecting catboost>0.24\n",
      "  Downloading catboost-1.0.5-cp39-none-win_amd64.whl (73.9 MB)\n",
      "Requirement already satisfied: pandas in c:\\conda\\lib\\site-packages (from pywedge) (1.3.5)\n",
      "Collecting graphviz\n",
      "  Downloading graphviz-0.20-py3-none-any.whl (46 kB)\n",
      "Requirement already satisfied: matplotlib in c:\\conda\\lib\\site-packages (from catboost>0.24->pywedge) (3.5.1)\n",
      "Requirement already satisfied: scipy in c:\\conda\\lib\\site-packages (from catboost>0.24->pywedge) (1.7.3)\n",
      "Requirement already satisfied: six in c:\\conda\\lib\\site-packages (from catboost>0.24->pywedge) (1.16.0)\n",
      "Requirement already satisfied: python-dateutil>=2.7.3 in c:\\conda\\lib\\site-packages (from pandas->pywedge) (2.8.2)\n",
      "Requirement already satisfied: pytz>=2017.3 in c:\\conda\\lib\\site-packages (from pandas->pywedge) (2021.3)\n",
      "Requirement already satisfied: threadpoolctl>=2.0.0 in c:\\conda\\lib\\site-packages (from imbalanced-learn->pywedge) (2.2.0)\n",
      "Requirement already satisfied: joblib>=0.11 in c:\\conda\\lib\\site-packages (from imbalanced-learn->pywedge) (1.1.0)\n",
      "Requirement already satisfied: traitlets>=4.3.1 in c:\\conda\\lib\\site-packages (from ipywidgets->pywedge) (5.1.1)\n",
      "Requirement already satisfied: nbformat>=4.2.0 in c:\\conda\\lib\\site-packages (from ipywidgets->pywedge) (5.1.3)\n",
      "Requirement already satisfied: ipython-genutils~=0.2.0 in c:\\conda\\lib\\site-packages (from ipywidgets->pywedge) (0.2.0)\n",
      "Requirement already satisfied: ipython>=4.0.0 in c:\\conda\\lib\\site-packages (from ipywidgets->pywedge) (7.31.1)\n",
      "Requirement already satisfied: widgetsnbextension~=3.5.0 in c:\\conda\\lib\\site-packages (from ipywidgets->pywedge) (3.5.1)\n",
      "Requirement already satisfied: jupyterlab-widgets>=1.0.0 in c:\\conda\\lib\\site-packages (from ipywidgets->pywedge) (1.0.0)\n",
      "Requirement already satisfied: ipykernel>=4.5.1 in c:\\conda\\lib\\site-packages (from ipywidgets->pywedge) (6.4.1)\n",
      "Requirement already satisfied: matplotlib-inline<0.2.0,>=0.1.0 in c:\\conda\\lib\\site-packages (from ipykernel>=4.5.1->ipywidgets->pywedge) (0.1.2)\n",
      "Requirement already satisfied: jupyter-client<8.0 in c:\\conda\\lib\\site-packages (from ipykernel>=4.5.1->ipywidgets->pywedge) (7.1.2)\n",
      "Requirement already satisfied: tornado<7.0,>=4.2 in c:\\conda\\lib\\site-packages (from ipykernel>=4.5.1->ipywidgets->pywedge) (6.1)\n",
      "Requirement already satisfied: debugpy<2.0,>=1.0.0 in c:\\conda\\lib\\site-packages (from ipykernel>=4.5.1->ipywidgets->pywedge) (1.5.1)\n",
      "Requirement already satisfied: setuptools>=18.5 in c:\\conda\\lib\\site-packages (from ipython>=4.0.0->ipywidgets->pywedge) (52.0.0.post20210125)\n",
      "Requirement already satisfied: jedi>=0.16 in c:\\conda\\lib\\site-packages (from ipython>=4.0.0->ipywidgets->pywedge) (0.18.1)\n",
      "Requirement already satisfied: colorama in c:\\conda\\lib\\site-packages (from ipython>=4.0.0->ipywidgets->pywedge) (0.4.4)\n",
      "Requirement already satisfied: pygments in c:\\conda\\lib\\site-packages (from ipython>=4.0.0->ipywidgets->pywedge) (2.11.2)\n",
      "Requirement already satisfied: pickleshare in c:\\conda\\lib\\site-packages (from ipython>=4.0.0->ipywidgets->pywedge) (0.7.5)\n",
      "Requirement already satisfied: backcall in c:\\conda\\lib\\site-packages (from ipython>=4.0.0->ipywidgets->pywedge) (0.2.0)\n",
      "Requirement already satisfied: decorator in c:\\conda\\lib\\site-packages (from ipython>=4.0.0->ipywidgets->pywedge) (5.1.1)\n",
      "Requirement already satisfied: prompt-toolkit!=3.0.0,!=3.0.1,<3.1.0,>=2.0.0 in c:\\conda\\lib\\site-packages (from ipython>=4.0.0->ipywidgets->pywedge) (3.0.20)\n",
      "Requirement already satisfied: parso<0.9.0,>=0.8.0 in c:\\conda\\lib\\site-packages (from jedi>=0.16->ipython>=4.0.0->ipywidgets->pywedge) (0.8.3)\n",
      "Requirement already satisfied: nest-asyncio>=1.5 in c:\\conda\\lib\\site-packages (from jupyter-client<8.0->ipykernel>=4.5.1->ipywidgets->pywedge) (1.5.1)\n",
      "Requirement already satisfied: entrypoints in c:\\conda\\lib\\site-packages (from jupyter-client<8.0->ipykernel>=4.5.1->ipywidgets->pywedge) (0.3)\n",
      "Requirement already satisfied: pyzmq>=13 in c:\\conda\\lib\\site-packages (from jupyter-client<8.0->ipykernel>=4.5.1->ipywidgets->pywedge) (22.3.0)\n",
      "Requirement already satisfied: jupyter-core>=4.6.0 in c:\\conda\\lib\\site-packages (from jupyter-client<8.0->ipykernel>=4.5.1->ipywidgets->pywedge) (4.9.1)\n",
      "Requirement already satisfied: pywin32>=1.0 in c:\\conda\\lib\\site-packages (from jupyter-core>=4.6.0->jupyter-client<8.0->ipykernel>=4.5.1->ipywidgets->pywedge) (228)\n",
      "Requirement already satisfied: jsonschema!=2.5.0,>=2.4 in c:\\conda\\lib\\site-packages (from nbformat>=4.2.0->ipywidgets->pywedge) (3.2.0)\n",
      "Requirement already satisfied: pyrsistent>=0.14.0 in c:\\conda\\lib\\site-packages (from jsonschema!=2.5.0,>=2.4->nbformat>=4.2.0->ipywidgets->pywedge) (0.18.0)\n",
      "Requirement already satisfied: attrs>=17.4.0 in c:\\conda\\lib\\site-packages (from jsonschema!=2.5.0,>=2.4->nbformat>=4.2.0->ipywidgets->pywedge) (21.4.0)\n",
      "Requirement already satisfied: wcwidth in c:\\conda\\lib\\site-packages (from prompt-toolkit!=3.0.0,!=3.0.1,<3.1.0,>=2.0.0->ipython>=4.0.0->ipywidgets->pywedge) (0.2.5)\n",
      "Requirement already satisfied: notebook>=4.4.1 in c:\\conda\\lib\\site-packages (from widgetsnbextension~=3.5.0->ipywidgets->pywedge) (6.4.6)\n",
      "Requirement already satisfied: nbconvert in c:\\conda\\lib\\site-packages (from notebook>=4.4.1->widgetsnbextension~=3.5.0->ipywidgets->pywedge) (6.1.0)\n",
      "Requirement already satisfied: Send2Trash>=1.8.0 in c:\\conda\\lib\\site-packages (from notebook>=4.4.1->widgetsnbextension~=3.5.0->ipywidgets->pywedge) (1.8.0)\n",
      "Requirement already satisfied: terminado>=0.8.3 in c:\\conda\\lib\\site-packages (from notebook>=4.4.1->widgetsnbextension~=3.5.0->ipywidgets->pywedge) (0.9.4)\n",
      "Requirement already satisfied: prometheus-client in c:\\conda\\lib\\site-packages (from notebook>=4.4.1->widgetsnbextension~=3.5.0->ipywidgets->pywedge) (0.13.1)\n",
      "Requirement already satisfied: jinja2 in c:\\conda\\lib\\site-packages (from notebook>=4.4.1->widgetsnbextension~=3.5.0->ipywidgets->pywedge) (3.0.2)\n",
      "Requirement already satisfied: argon2-cffi in c:\\conda\\lib\\site-packages (from notebook>=4.4.1->widgetsnbextension~=3.5.0->ipywidgets->pywedge) (20.1.0)\n",
      "Requirement already satisfied: pywinpty>=0.5 in c:\\conda\\lib\\site-packages (from terminado>=0.8.3->notebook>=4.4.1->widgetsnbextension~=3.5.0->ipywidgets->pywedge) (2.0.2)\n",
      "Requirement already satisfied: cffi>=1.0.0 in c:\\conda\\lib\\site-packages (from argon2-cffi->notebook>=4.4.1->widgetsnbextension~=3.5.0->ipywidgets->pywedge) (1.14.6)\n",
      "Requirement already satisfied: pycparser in c:\\conda\\lib\\site-packages (from cffi>=1.0.0->argon2-cffi->notebook>=4.4.1->widgetsnbextension~=3.5.0->ipywidgets->pywedge) (2.20)\n",
      "Requirement already satisfied: MarkupSafe>=2.0 in c:\\conda\\lib\\site-packages (from jinja2->notebook>=4.4.1->widgetsnbextension~=3.5.0->ipywidgets->pywedge) (2.0.1)\n",
      "Requirement already satisfied: cycler>=0.10 in c:\\conda\\lib\\site-packages (from matplotlib->catboost>0.24->pywedge) (0.11.0)\n",
      "Requirement already satisfied: pillow>=6.2.0 in c:\\conda\\lib\\site-packages (from matplotlib->catboost>0.24->pywedge) (9.0.1)\n",
      "Requirement already satisfied: fonttools>=4.22.0 in c:\\conda\\lib\\site-packages (from matplotlib->catboost>0.24->pywedge) (4.25.0)\n",
      "Requirement already satisfied: pyparsing>=2.2.1 in c:\\conda\\lib\\site-packages (from matplotlib->catboost>0.24->pywedge) (3.0.4)\n",
      "Requirement already satisfied: kiwisolver>=1.0.1 in c:\\conda\\lib\\site-packages (from matplotlib->catboost>0.24->pywedge) (1.3.2)\n",
      "Requirement already satisfied: packaging>=20.0 in c:\\conda\\lib\\site-packages (from matplotlib->catboost>0.24->pywedge) (21.3)\n",
      "Requirement already satisfied: pandocfilters>=1.4.1 in c:\\conda\\lib\\site-packages (from nbconvert->notebook>=4.4.1->widgetsnbextension~=3.5.0->ipywidgets->pywedge) (1.5.0)\n",
      "Requirement already satisfied: bleach in c:\\conda\\lib\\site-packages (from nbconvert->notebook>=4.4.1->widgetsnbextension~=3.5.0->ipywidgets->pywedge) (4.1.0)\n",
      "Requirement already satisfied: mistune<2,>=0.8.1 in c:\\conda\\lib\\site-packages (from nbconvert->notebook>=4.4.1->widgetsnbextension~=3.5.0->ipywidgets->pywedge) (0.8.4)\n",
      "Requirement already satisfied: testpath in c:\\conda\\lib\\site-packages (from nbconvert->notebook>=4.4.1->widgetsnbextension~=3.5.0->ipywidgets->pywedge) (0.5.0)\n",
      "Requirement already satisfied: nbclient<0.6.0,>=0.5.0 in c:\\conda\\lib\\site-packages (from nbconvert->notebook>=4.4.1->widgetsnbextension~=3.5.0->ipywidgets->pywedge) (0.5.3)\n",
      "Requirement already satisfied: defusedxml in c:\\conda\\lib\\site-packages (from nbconvert->notebook>=4.4.1->widgetsnbextension~=3.5.0->ipywidgets->pywedge) (0.7.1)\n",
      "Requirement already satisfied: jupyterlab-pygments in c:\\conda\\lib\\site-packages (from nbconvert->notebook>=4.4.1->widgetsnbextension~=3.5.0->ipywidgets->pywedge) (0.1.2)\n",
      "Requirement already satisfied: async-generator in c:\\conda\\lib\\site-packages (from nbclient<0.6.0,>=0.5.0->nbconvert->notebook>=4.4.1->widgetsnbextension~=3.5.0->ipywidgets->pywedge) (1.10)\n",
      "Requirement already satisfied: webencodings in c:\\conda\\lib\\site-packages (from bleach->nbconvert->notebook>=4.4.1->widgetsnbextension~=3.5.0->ipywidgets->pywedge) (0.5.1)\n",
      "Collecting tenacity>=6.2.0\n",
      "  Downloading tenacity-8.0.1-py3-none-any.whl (24 kB)\n",
      "Installing collected packages: tenacity, plotly, graphviz, xgboost, imbalanced-learn, catboost, pywedge\n",
      "Successfully installed catboost-1.0.5 graphviz-0.20 imbalanced-learn-0.9.0 plotly-5.7.0 pywedge-0.5.1.8 tenacity-8.0.1 xgboost-1.6.0\n",
      "Note: you may need to restart the kernel to use updated packages.\n"
     ]
    }
   ],
   "source": [
    "pip install pywedge"
   ]
  },
  {
   "cell_type": "code",
   "execution_count": 22,
   "id": "520aa4d4",
   "metadata": {},
   "outputs": [],
   "source": [
    "import pywedge as pw"
   ]
  },
  {
   "cell_type": "code",
   "execution_count": 24,
   "id": "aea627b4",
   "metadata": {},
   "outputs": [
    {
     "data": {
      "application/vnd.jupyter.widget-view+json": {
       "model_id": "83b0122708b74828a9c9af471fe2f10c",
       "version_major": 2,
       "version_minor": 0
      },
      "text/plain": [
       "HTML(value='<h2>Pywedge Make_Charts </h2>')"
      ]
     },
     "metadata": {},
     "output_type": "display_data"
    },
    {
     "data": {
      "application/vnd.jupyter.widget-view+json": {
       "model_id": "3228f0f69c5e4f61a848cc7e58b737ab",
       "version_major": 2,
       "version_minor": 0
      },
      "text/plain": [
       "Tab(children=(Output(), Output(), Output(), Output(), Output(), Output(), Output(), Output()), _titles={'0': '…"
      ]
     },
     "metadata": {},
     "output_type": "display_data"
    }
   ],
   "source": [
    "x = pw.Pywedge_Charts(summer, c=None, y=\"humidity\")\n",
    "charts = x.make_charts()"
   ]
  },
  {
   "cell_type": "code",
   "execution_count": 25,
   "id": "9c689366",
   "metadata": {},
   "outputs": [],
   "source": [
    "count_clear = len(summer[summer.conditions == \"Clear\"])\n",
    "count_pcloudy = len(summer[summer.conditions == \"Partially cloudy\"])\n",
    "count_rpcloudy = len(summer[summer.conditions == \"Rain, Partially cloudy\"])\n",
    "count_rain = len(summer[summer.conditions == \"Rain\"])\n",
    "count_ro = len(summer[summer.conditions == \"Rain, Overcast\"])\n",
    "count_overcast = len(summer[summer.conditions == \"Overcast\"])"
   ]
  },
  {
   "cell_type": "code",
   "execution_count": 33,
   "id": "06d30650",
   "metadata": {},
   "outputs": [
    {
     "name": "stdout",
     "output_type": "stream",
     "text": [
      " Percent of Clear:28.531510%\n",
      " Percent of Partially Cloudy:57.739540%\n",
      " Percent of Rain, Partially Cloudy:11.831752%\n",
      " Percent of Rain:0.066181%\n",
      " Percent of Rain, Overcast:1.000074%\n",
      " Percent of Overcast:0.830943%\n"
     ]
    }
   ],
   "source": [
    "print(\" Percent of Clear:{:2f}%\".format((count_clear/len(summer.conditions))*100))\n",
    "print(\" Percent of Partially Cloudy:{:2f}%\".format((count_pcloudy/len(summer.conditions))*100))\n",
    "print(\" Percent of Rain, Partially Cloudy:{:2f}%\".format((count_rpcloudy/len(summer.conditions))*100))\n",
    "print(\" Percent of Rain:{:2f}%\".format((count_rain/len(summer.conditions))*100))\n",
    "print(\" Percent of Rain, Overcast:{:2f}%\".format((count_ro/len(summer.conditions))*100))\n",
    "print(\" Percent of Overcast:{:2f}%\".format((count_overcast/len(summer.conditions))*100))"
   ]
  },
  {
   "cell_type": "code",
   "execution_count": 35,
   "id": "55155b04",
   "metadata": {},
   "outputs": [
    {
     "data": {
      "text/html": [
       "<div>\n",
       "<style scoped>\n",
       "    .dataframe tbody tr th:only-of-type {\n",
       "        vertical-align: middle;\n",
       "    }\n",
       "\n",
       "    .dataframe tbody tr th {\n",
       "        vertical-align: top;\n",
       "    }\n",
       "\n",
       "    .dataframe thead th {\n",
       "        text-align: right;\n",
       "    }\n",
       "</style>\n",
       "<table border=\"1\" class=\"dataframe\">\n",
       "  <thead>\n",
       "    <tr style=\"text-align: right;\">\n",
       "      <th></th>\n",
       "      <th>humidity</th>\n",
       "      <th>tempmax</th>\n",
       "      <th>tempmin</th>\n",
       "      <th>windspeed</th>\n",
       "    </tr>\n",
       "  </thead>\n",
       "  <tbody>\n",
       "    <tr>\n",
       "      <th>count</th>\n",
       "      <td>13599.000000</td>\n",
       "      <td>13599.000000</td>\n",
       "      <td>13599.000000</td>\n",
       "      <td>13599.000000</td>\n",
       "    </tr>\n",
       "    <tr>\n",
       "      <th>mean</th>\n",
       "      <td>54.643784</td>\n",
       "      <td>36.756828</td>\n",
       "      <td>25.837937</td>\n",
       "      <td>20.083293</td>\n",
       "    </tr>\n",
       "    <tr>\n",
       "      <th>std</th>\n",
       "      <td>19.519355</td>\n",
       "      <td>3.993890</td>\n",
       "      <td>3.133552</td>\n",
       "      <td>9.885514</td>\n",
       "    </tr>\n",
       "    <tr>\n",
       "      <th>min</th>\n",
       "      <td>7.410000</td>\n",
       "      <td>19.900000</td>\n",
       "      <td>10.000000</td>\n",
       "      <td>0.000000</td>\n",
       "    </tr>\n",
       "    <tr>\n",
       "      <th>25%</th>\n",
       "      <td>38.195000</td>\n",
       "      <td>34.000000</td>\n",
       "      <td>23.700000</td>\n",
       "      <td>14.800000</td>\n",
       "    </tr>\n",
       "    <tr>\n",
       "      <th>50%</th>\n",
       "      <td>56.120000</td>\n",
       "      <td>37.000000</td>\n",
       "      <td>26.000000</td>\n",
       "      <td>19.500000</td>\n",
       "    </tr>\n",
       "    <tr>\n",
       "      <th>75%</th>\n",
       "      <td>71.420000</td>\n",
       "      <td>39.800000</td>\n",
       "      <td>28.100000</td>\n",
       "      <td>24.100000</td>\n",
       "    </tr>\n",
       "    <tr>\n",
       "      <th>max</th>\n",
       "      <td>99.040000</td>\n",
       "      <td>50.000000</td>\n",
       "      <td>37.000000</td>\n",
       "      <td>263.200000</td>\n",
       "    </tr>\n",
       "  </tbody>\n",
       "</table>\n",
       "</div>"
      ],
      "text/plain": [
       "           humidity       tempmax       tempmin     windspeed\n",
       "count  13599.000000  13599.000000  13599.000000  13599.000000\n",
       "mean      54.643784     36.756828     25.837937     20.083293\n",
       "std       19.519355      3.993890      3.133552      9.885514\n",
       "min        7.410000     19.900000     10.000000      0.000000\n",
       "25%       38.195000     34.000000     23.700000     14.800000\n",
       "50%       56.120000     37.000000     26.000000     19.500000\n",
       "75%       71.420000     39.800000     28.100000     24.100000\n",
       "max       99.040000     50.000000     37.000000    263.200000"
      ]
     },
     "execution_count": 35,
     "metadata": {},
     "output_type": "execute_result"
    }
   ],
   "source": [
    "summer[[\"humidity\",\"tempmax\", \"tempmin\", \"windspeed\"]].describe()"
   ]
  },
  {
   "cell_type": "code",
   "execution_count": 39,
   "id": "ff8997c7",
   "metadata": {},
   "outputs": [
    {
     "data": {
      "text/plain": [
       "<AxesSubplot:>"
      ]
     },
     "execution_count": 39,
     "metadata": {},
     "output_type": "execute_result"
    },
    {
     "data": {
      "image/png": "[encoded data removed]",
      "text/plain": [
       "<Figure size 864x504 with 2 Axes>"
      ]
     },
     "metadata": {
      "needs_background": "light"
     },
     "output_type": "display_data"
    }
   ],
   "source": [
    "plt.figure(figsize=(12,7))\n",
    "sns.heatmap(summer.corr(),annot=True,cmap = 'coolwarm')"
   ]
  },
  {
   "cell_type": "code",
   "execution_count": null,
   "id": "b9627e3c",
   "metadata": {},
   "outputs": [],
   "source": []
  }
 ],
 "metadata": {
  "kernelspec": {
   "display_name": "Python 3 (ipykernel)",
   "language": "python",
   "name": "python3"
  },
  "language_info": {
   "codemirror_mode": {
    "name": "ipython",
    "version": 3
   },
   "file_extension": ".py",
   "mimetype": "text/x-python",
   "name": "python",
   "nbconvert_exporter": "python",
   "pygments_lexer": "ipython3",
   "version": "3.9.5"
  }
 },
 "nbformat": 4,
 "nbformat_minor": 5
}
